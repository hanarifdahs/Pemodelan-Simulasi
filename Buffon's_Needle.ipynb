{
  "nbformat": 4,
  "nbformat_minor": 0,
  "metadata": {
    "colab": {
      "name": "Buffon's_Needle.ipynb",
      "provenance": [],
      "authorship_tag": "ABX9TyN1bFBldsjOTmOYdVFSjAhn",
      "include_colab_link": true
    },
    "kernelspec": {
      "name": "python3",
      "display_name": "Python 3"
    }
  },
  "cells": [
    {
      "cell_type": "markdown",
      "metadata": {
        "id": "view-in-github",
        "colab_type": "text"
      },
      "source": [
        "<a href=\"https://colab.research.google.com/github/hanarifdahs/Pemodelan-Simulasi/blob/master/Buffon's_Needle.ipynb\" target=\"_parent\"><img src=\"https://colab.research.google.com/assets/colab-badge.svg\" alt=\"Open In Colab\"/></a>"
      ]
    },
    {
      "cell_type": "code",
      "metadata": {
        "id": "t0Dx0wr6oF3_",
        "colab_type": "code",
        "outputId": "1ef78861-2a55-48ee-e7ee-c2a82841ea6f",
        "colab": {
          "base_uri": "https://localhost:8080/",
          "height": 765
        }
      },
      "source": [
        "import random\n",
        "import numpy as np\n",
        "import matplotlib.pyplot as plt\n",
        "from numpy import pi, cos\n",
        "import unicodedata\n",
        "import math\n",
        "def buffon(L,D,N):\n",
        "\thit=0;\n",
        "\tfor loop in range(N):\n",
        "\t\ttheta = pi*random.random()/2\n",
        "\t\tif D*random.random() <= L*cos(theta):\n",
        "\t\t\thit += 1\n",
        "\treturn hit/N\n",
        "\n",
        "def cont_pi(N):\n",
        "\tL=1\n",
        "\tD=4\n",
        "\treturn 2*L / (buffon(L,D,N)*D)\n",
        "\n",
        "print('Nilai', unicodedata.lookup(\"GREEK SMALL LETTER PI\"),'sebenarnya', ' = ', math.pi)\n",
        "\n",
        "x = np.arange(100,10000,100)\n",
        "y = np.zeros(len(x))\n",
        "n = len(x)\n",
        "\n",
        "for i in range(n):\n",
        "\ty[i]=cont_pi(x[i])\n",
        "plt.plot(x,y,'.')\n",
        "plt.axhline(y=pi, color='r', linestyle='-')\n",
        "plt.xlabel('N(ukuran sampel)')\n",
        "plt.ylabel('$\\pi$')\n",
        "print('Nilai rata- rata estimasi', unicodedata.lookup(\"GREEK SMALL LETTER PI\"),' = ',sum(y)/n )\n",
        "print('Error = ', abs((sum(y)/n) - math.pi) )\n",
        "print (x)\n",
        "print(y)\n",
        "plt.show()"
      ],
      "execution_count": 0,
      "outputs": [
        {
          "output_type": "stream",
          "text": [
            "Nilai π sebenarnya  =  3.141592653589793\n",
            "Nilai rata- rata estimasi π  =  3.1379484269460636\n",
            "Error =  0.0036442266437295423\n",
            "[ 100  200  300  400  500  600  700  800  900 1000 1100 1200 1300 1400\n",
            " 1500 1600 1700 1800 1900 2000 2100 2200 2300 2400 2500 2600 2700 2800\n",
            " 2900 3000 3100 3200 3300 3400 3500 3600 3700 3800 3900 4000 4100 4200\n",
            " 4300 4400 4500 4600 4700 4800 4900 5000 5100 5200 5300 5400 5500 5600\n",
            " 5700 5800 5900 6000 6100 6200 6300 6400 6500 6600 6700 6800 6900 7000\n",
            " 7100 7200 7300 7400 7500 7600 7700 7800 7900 8000 8100 8200 8300 8400\n",
            " 8500 8600 8700 8800 8900 9000 9100 9200 9300 9400 9500 9600 9700 9800\n",
            " 9900]\n",
            "[2.94117647 2.43902439 3.48837209 2.77777778 3.16455696 3.26086957\n",
            " 3.30188679 2.89855072 3.515625   3.22580645 2.92553191 3.20855615\n",
            " 3.125      2.9787234  3.28947368 3.27868852 3.37301587 3.24909747\n",
            " 3.34507042 3.03030303 3.31230284 3.27380952 3.3045977  3.06905371\n",
            " 3.27225131 3.14769976 2.97356828 3.10421286 3.0982906  2.92397661\n",
            " 3.1124498  3.05927342 2.99455535 3.30097087 3.05944056 3.08747856\n",
            " 3.0884808  3.44827586 3.15024233 3.22580645 3.12024353 2.78884462\n",
            " 3.27743902 3.13837375 3.14685315 3.15500686 3.04798962 3.23014805\n",
            " 3.30188679 3.14070352 3.09842041 3.09155767 3.07781649 3.22580645\n",
            " 2.96655879 3.125      3.19506726 3.125      3.08254963 3.1282586\n",
            " 3.12180143 3.0214425  3.1374502  3.13111546 3.19567355 3.15487572\n",
            " 3.08471455 3.20150659 3.04770318 2.97619048 3.05507745 3.11688312\n",
            " 3.08277027 3.18416523 3.18336163 3.2230704  3.11740891 3.31350892\n",
            " 3.21399512 3.09837335 3.25040128 3.1881804  3.05371597 3.13901345\n",
            " 3.18829707 3.03886926 3.0982906  3.00957592 3.19683908 3.00802139\n",
            " 3.08056872 3.22580645 3.3285612  3.18644068 3.10457516 3.08880309\n",
            " 3.12701483 3.14102564 3.25443787]\n"
          ],
          "name": "stdout"
        },
        {
          "output_type": "display_data",
          "data": {
            "image/png": "[encoded data removed]",
            "text/plain": [
              "<Figure size 432x288 with 1 Axes>"
            ]
          },
          "metadata": {
            "tags": []
          }
        }
      ]
    }
  ]
}